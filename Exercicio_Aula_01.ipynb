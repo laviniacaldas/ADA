{
 "cells": [
  {
   "cell_type": "code",
   "execution_count": 1,
   "metadata": {},
   "outputs": [],
   "source": [
    "lista = [3, 67, 89, -100, 34, 0, 7, 4, 100, 1104, 25]"
   ]
  },
  {
   "cell_type": "code",
   "execution_count": 2,
   "metadata": {},
   "outputs": [
    {
     "name": "stdout",
     "output_type": "stream",
     "text": [
      "587 ns ± 56.1 ns per loop (mean ± std. dev. of 7 runs, 1,000,000 loops each)\n"
     ]
    }
   ],
   "source": [
    "%%timeit\n",
    "\n",
    "max = lista[0]\n",
    "\n",
    "for num in lista[1:]:\n",
    "    if num > max:\n",
    "        max = num\n"
   ]
  },
  {
   "cell_type": "code",
   "execution_count": 3,
   "metadata": {},
   "outputs": [
    {
     "name": "stdout",
     "output_type": "stream",
     "text": [
      "198 ns ± 7.86 ns per loop (mean ± std. dev. of 7 runs, 1,000,000 loops each)\n"
     ]
    }
   ],
   "source": [
    "%%timeit\n",
    "lista.sort()\n",
    "lista[-1]"
   ]
  },
  {
   "cell_type": "code",
   "execution_count": 8,
   "metadata": {},
   "outputs": [
    {
     "data": {
      "text/plain": [
       "0"
      ]
     },
     "execution_count": 8,
     "metadata": {},
     "output_type": "execute_result"
    }
   ],
   "source": [
    "g = (x**2 for x in range(5))\n",
    "g\n",
    "next(g)"
   ]
  },
  {
   "cell_type": "code",
   "execution_count": 9,
   "metadata": {},
   "outputs": [
    {
     "name": "stdout",
     "output_type": "stream",
     "text": [
      "1\n",
      "4\n",
      "9\n",
      "16\n"
     ]
    }
   ],
   "source": [
    "for val in g:\n",
    "    print(val)"
   ]
  },
  {
   "cell_type": "code",
   "execution_count": 7,
   "metadata": {},
   "outputs": [
    {
     "name": "stdout",
     "output_type": "stream",
     "text": [
      "0\n",
      "1\n",
      "4\n",
      "9\n",
      "16\n",
      "25\n",
      "36\n",
      "49\n",
      "64\n",
      "81\n",
      "[]\n"
     ]
    }
   ],
   "source": [
    "gerador_quadrados = (x**2 for x in range(10))\n",
    "\n",
    "for quadrado in gerador_quadrados:\n",
    "    print(quadrado)\n",
    "\n",
    "lista_quadrados = list(gerador_quadrados)\n",
    "print(lista_quadrados) # imprime uma lista vazia\n"
   ]
  },
  {
   "cell_type": "code",
   "execution_count": 10,
   "metadata": {},
   "outputs": [
    {
     "name": "stdout",
     "output_type": "stream",
     "text": [
      "<list_iterator object at 0x000002093A1E8580>\n",
      "1\n",
      "3\n",
      "5\n"
     ]
    },
    {
     "ename": "StopIteration",
     "evalue": "",
     "output_type": "error",
     "traceback": [
      "\u001b[1;31m---------------------------------------------------------------------------\u001b[0m",
      "\u001b[1;31mStopIteration\u001b[0m                             Traceback (most recent call last)",
      "\u001b[1;32mc:\\Users\\Lavinia\\OneDrive\\Documentos\\Ifood\\Módulo 2 - Lógica de Programação II\\Códigos\\ADA\\Exercicio_Aula_01.ipynb Cell 7\u001b[0m line \u001b[0;36m1\n\u001b[0;32m      <a href='vscode-notebook-cell:/c%3A/Users/Lavinia/OneDrive/Documentos/Ifood/M%C3%B3dulo%202%20-%20L%C3%B3gica%20de%20Programa%C3%A7%C3%A3o%20II/C%C3%B3digos/ADA/Exercicio_Aula_01.ipynb#W6sZmlsZQ%3D%3D?line=7'>8</a>\u001b[0m \u001b[39mprint\u001b[39m(\u001b[39mnext\u001b[39m(iterador))\n\u001b[0;32m      <a href='vscode-notebook-cell:/c%3A/Users/Lavinia/OneDrive/Documentos/Ifood/M%C3%B3dulo%202%20-%20L%C3%B3gica%20de%20Programa%C3%A7%C3%A3o%20II/C%C3%B3digos/ADA/Exercicio_Aula_01.ipynb#W6sZmlsZQ%3D%3D?line=8'>9</a>\u001b[0m \u001b[39mprint\u001b[39m(\u001b[39mnext\u001b[39m(iterador))\n\u001b[1;32m---> <a href='vscode-notebook-cell:/c%3A/Users/Lavinia/OneDrive/Documentos/Ifood/M%C3%B3dulo%202%20-%20L%C3%B3gica%20de%20Programa%C3%A7%C3%A3o%20II/C%C3%B3digos/ADA/Exercicio_Aula_01.ipynb#W6sZmlsZQ%3D%3D?line=9'>10</a>\u001b[0m \u001b[39mprint\u001b[39m(\u001b[39mnext\u001b[39;49m(iterador)) \u001b[39m# Erro: StopIteration\u001b[39;00m\n",
      "\u001b[1;31mStopIteration\u001b[0m: "
     ]
    }
   ],
   "source": [
    "lista = [1, 3, 5]\n",
    "\n",
    "iterador = iter(lista)\n",
    "\n",
    "print(iterador)\n",
    "\n",
    "print(next(iterador))\n",
    "print(next(iterador))\n",
    "print(next(iterador))\n",
    "print(next(iterador)) # Erro: StopIteration"
   ]
  },
  {
   "cell_type": "markdown",
   "metadata": {},
   "source": [
    "Uma expressão geradora não é um iterável, ela é um iterador. Uma lista é um iterável.\n",
    "\n",
    "Podemos utilizar expressões geradoras quando:\n",
    "\n",
    "    Iremos trabalhar com uma base de dados tão grande que a geração da lista pode ser excessivamente lenta ou consumir memória demais.  \n",
    "    Quando desejamos obter dados infinitos (uma sequência numérica sem fim, ou então um stream de dados que pode estar chegando por um sensor ou pela internet, por exemplo).  \n",
    "    Quando sabemos com certeza absoluta que só precisaremos iterar uma única vez por cada elemento e não precisaremos deles posteriormente.  \n",
    "    \n",
    "Caso você precise dos dados mais de uma vez, a expressão geradora deixa de ser atrativa e compensa mais utilizar compreensão de listas.  "
   ]
  },
  {
   "cell_type": "code",
   "execution_count": null,
   "metadata": {},
   "outputs": [],
   "source": []
  }
 ],
 "metadata": {
  "kernelspec": {
   "display_name": "Python 3",
   "language": "python",
   "name": "python3"
  },
  "language_info": {
   "codemirror_mode": {
    "name": "ipython",
    "version": 3
   },
   "file_extension": ".py",
   "mimetype": "text/x-python",
   "name": "python",
   "nbconvert_exporter": "python",
   "pygments_lexer": "ipython3",
   "version": "3.9.5"
  }
 },
 "nbformat": 4,
 "nbformat_minor": 2
}
