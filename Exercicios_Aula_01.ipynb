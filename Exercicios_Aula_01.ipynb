{
 "cells": [
  {
   "cell_type": "markdown",
   "metadata": {},
   "source": [
    "# Exercício Aula 01\n",
    "\n",
    "Resolva de forma mais eficiente e sucinta usando listas e/ou tuplas:\n",
    "\n",
    "> 1) Faça um programa que olhe todos os itens de uma lista e diga quantos deles são pares.\n"
   ]
  },
  {
   "cell_type": "code",
   "execution_count": 5,
   "metadata": {},
   "outputs": [
    {
     "name": "stdout",
     "output_type": "stream",
     "text": [
      "A lista possui 9 números pares\n"
     ]
    }
   ],
   "source": [
    "lista = [34,6,7,437,8,6,3642,74,862,6246,2]\n",
    "\n",
    "qtd = 0\n",
    "\n",
    "for i in lista:\n",
    "    if i % 2 == 0:\n",
    "        qtd += 1\n",
    "\n",
    "print(f\"A lista possui {qtd} números pares.\")    "
   ]
  },
  {
   "cell_type": "markdown",
   "metadata": {},
   "source": [
    "> 2) Faça um programa que imprima o maior número de uma lista, sem usar o método max()"
   ]
  },
  {
   "cell_type": "code",
   "execution_count": 6,
   "metadata": {},
   "outputs": [
    {
     "name": "stdout",
     "output_type": "stream",
     "text": [
      "O maior elemento da lista é 5473462.\n"
     ]
    }
   ],
   "source": [
    "lista = [3,235,7,2,62,7,5473462,4,377,23,6,7,43,25232]\n",
    "\n",
    "maior = lista[0]\n",
    "\n",
    "for i in lista[1:]:\n",
    "    if i > maior:\n",
    "        maior = i\n",
    "\n",
    "print(f\"O maior elemento da lista é {maior}.\")"
   ]
  },
  {
   "cell_type": "markdown",
   "metadata": {},
   "source": [
    "> 3) Faça um Programa que peça as 4 notas bimestrais e mostre a média, usando listas."
   ]
  },
  {
   "cell_type": "code",
   "execution_count": 13,
   "metadata": {},
   "outputs": [
    {
     "name": "stdout",
     "output_type": "stream",
     "text": [
      "A média das notas é 2.50.\n"
     ]
    }
   ],
   "source": [
    "notas = list()\n",
    "\n",
    "for i in range(4):\n",
    "    notas.append(float(input(f\"\\nDigite a {i+1}ª nota: \\t\")))\n",
    "\n",
    "media = sum(notas)/4\n",
    "print(f\"A média das notas é {media:.2f}\")\n",
    "\n"
   ]
  },
  {
   "cell_type": "markdown",
   "metadata": {},
   "source": [
    "> 4) Considere que temos uma lista com os nomes de todos os alunos de uma turma, e outra com as notas, na mesma ordem. Como faríamos para acessar, simultaneamente, o nome de um aluno e a sua nota?"
   ]
  },
  {
   "cell_type": "code",
   "execution_count": 19,
   "metadata": {},
   "outputs": [
    {
     "name": "stdout",
     "output_type": "stream",
     "text": [
      "O aluno João possui a nota 5.\n",
      "O aluno Maria possui a nota 6.\n",
      "O aluno Lavínia possui a nota 10.\n",
      "O aluno Roberto possui a nota 10.\n"
     ]
    }
   ],
   "source": [
    "lista_nome = [\"João\", \"Maria\", \"Lavínia\", \"Roberto\"]\n",
    "lista_notas = [5,6,10,10]\n",
    "\n",
    "for nome, nota in zip(lista_nome, lista_notas):\n",
    "    print(f\"O aluno {nome} possui a nota {nota}.\")"
   ]
  },
  {
   "cell_type": "markdown",
   "metadata": {},
   "source": [
    "\n",
    "> 5) Para que a entrega de alimentos seja feita com qualidade por um serviço de delivery, é muito importante que as caixas de transporte utilizadas por entregadores tenham um revestimento térmico interno, para manter a temperatura dos alimentos. Muitos destes revestimentos são importados de países que utilizam diferentes escalas de temperatura, de modo que as especificações quanto às temperaturas de operação podem gerar confusão.\n",
    "\n",
    "* Pensando nisso, escreva um código em Python que recebe um número (que possa ter casas decimais) e a escala de temperatura em que este valor se encontra e para qual ele deseja converter (Celsius, Kelvin ou Fahrenheit). Tanto na escala em que se encontra quanto para a que deseja converter, utilize as letras iniciais como entrada: Celsius - 'C', Kelvin - 'K' ou Fahrenheit - 'F'.\n",
    "\n",
    "* Importante: o programa deve trabalhar apenas com as 3 escalas supracitadas! Então, não deixe de fazer as validações necessárias. Além disso, por definição, não existem temperaturas em Kelvin abaixo de zero (o valor zero pode existir), portanto verifique também esta condição para que sejam feitas conversões válidas!"
   ]
  },
  {
   "cell_type": "code",
   "execution_count": 57,
   "metadata": {},
   "outputs": [
    {
     "name": "stdout",
     "output_type": "stream",
     "text": [
      "-3.6\n"
     ]
    }
   ],
   "source": [
    "temperatura = input(\"Digite o valor da temperatura que deseja converter: \")\n",
    "\n",
    "try: \n",
    "    print(converter_temperatura(float(temperatura)))\n",
    "\n",
    "except:\n",
    "    print(TypeError)\n",
    "\n",
    "\n",
    "def converter_temperatura(temperatura):\n",
    "    try: \n",
    "        escala_entrada = input(\"Qual escala da temperatura atual?\\nK - Kelvin\\nC - Celsius\\nF - Fahrenheit\").upper()\n",
    "        escala_saida = input(\"Qual escala da temperatura que deseja converter?\\nK - Kelvin\\nC - Celsius\\nF - Fahrenheit\").upper()\n",
    "\n",
    "        if escala_entrada == 'K' and temperatura >= 0:           \n",
    "            if escala_saida == 'C':\n",
    "                temperatura_convertida = temperatura - 273.15\n",
    "            elif escala_saida == 'F':\n",
    "                temperatura_convertida = (temperatura - 273.15)*1.8 + 32\n",
    "            else:\n",
    "                temperatura_convertida = temperatura\n",
    "            return temperatura_convertida\n",
    "        \n",
    "        elif escala_entrada == 'F' and temperatura >=-459.67:\n",
    "            if escala_saida == 'C':\n",
    "                temperatura_convertida = (temperatura - 32)*1.8\n",
    "            elif escala_saida == 'K':\n",
    "                temperatura_convertida = (temperatura - 32)*1.8 + 273.15\n",
    "            else:\n",
    "                temperatura_convertida = temperatura\n",
    "            return temperatura_convertida\n",
    "\n",
    "        elif escala_entrada == 'C' and temperatura >= -273.15:\n",
    "            if escala_saida == 'K':\n",
    "                temperatura_convertida = temperatura + 273.15\n",
    "            elif escala_saida == 'F':\n",
    "                temperatura_convertida = temperatura*1.8 + 32\n",
    "            else:\n",
    "                temperatura_convertida = temperatura\n",
    "            return temperatura_convertida\n",
    "\n",
    "        else:\n",
    "            return \"Temperatura ou escala incorreta!\"\n",
    "            \n",
    "    except:\n",
    "        print(NameError)"
   ]
  },
  {
   "cell_type": "code",
   "execution_count": 1,
   "metadata": {},
   "outputs": [],
   "source": [
    "def celsius_to_fahrenheit(valor: float) -> float:\n",
    "    return 1.8*valor + 32"
   ]
  },
  {
   "cell_type": "code",
   "execution_count": 2,
   "metadata": {},
   "outputs": [
    {
     "data": {
      "text/plain": [
       "89.6"
      ]
     },
     "execution_count": 2,
     "metadata": {},
     "output_type": "execute_result"
    }
   ],
   "source": [
    "celsius_to_fahrenheit(32)"
   ]
  }
 ],
 "metadata": {
  "kernelspec": {
   "display_name": "Python 3",
   "language": "python",
   "name": "python3"
  },
  "language_info": {
   "codemirror_mode": {
    "name": "ipython",
    "version": 3
   },
   "file_extension": ".py",
   "mimetype": "text/x-python",
   "name": "python",
   "nbconvert_exporter": "python",
   "pygments_lexer": "ipython3",
   "version": "3.9.5"
  }
 },
 "nbformat": 4,
 "nbformat_minor": 2
}
