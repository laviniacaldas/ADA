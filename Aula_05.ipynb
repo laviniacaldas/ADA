{
 "cells": [
  {
   "cell_type": "code",
   "execution_count": 1,
   "metadata": {},
   "outputs": [
    {
     "name": "stdout",
     "output_type": "stream",
     "text": [
      "[1, 2.5, 3, 4.5]\n",
      "[1, 2, 3, 4]\n"
     ]
    }
   ],
   "source": [
    "def funcao_pura(numeros: list):\n",
    "    soma = 0\n",
    "    for n in numeros:\n",
    "        soma += n\n",
    "    return soma\n",
    "\n",
    "def funcao_impura(numeros: list):\n",
    "    soma = 0\n",
    "    for idx in range(len(numeros)):\n",
    "\n",
    "        if type(numeros[idx]) != int:\n",
    "            numeros[idx] = int(numeros[idx])\n",
    "        \n",
    "        soma += numeros[idx]\n",
    "        idx += 1\n",
    "    return soma\n",
    "\n",
    "entrada = [1, 2.5, 3, 4.5]\n",
    "\n",
    "funcao_pura(entrada)\n",
    "print(entrada)\n",
    "funcao_impura(entrada)\n",
    "print(entrada)"
   ]
  },
  {
   "cell_type": "code",
   "execution_count": 4,
   "metadata": {},
   "outputs": [
    {
     "ename": "KeyboardInterrupt",
     "evalue": "",
     "output_type": "error",
     "traceback": [
      "\u001b[1;31m---------------------------------------------------------------------------\u001b[0m",
      "\u001b[1;31mKeyboardInterrupt\u001b[0m                         Traceback (most recent call last)",
      "\u001b[1;32mc:\\Users\\Lavinia\\OneDrive\\Documentos\\Ifood\\Módulo 2 - Lógica de Programação II\\Códigos\\ADA\\Aula_06.ipynb Cell 2\u001b[0m line \u001b[0;36m2\n\u001b[0;32m     <a href='vscode-notebook-cell:/c%3A/Users/Lavinia/OneDrive/Documentos/Ifood/M%C3%B3dulo%202%20-%20L%C3%B3gica%20de%20Programa%C3%A7%C3%A3o%20II/C%C3%B3digos/ADA/Aula_06.ipynb#W1sZmlsZQ%3D%3D?line=11'>12</a>\u001b[0m     \u001b[39mreturn\u001b[39;00m redutor\n\u001b[0;32m     <a href='vscode-notebook-cell:/c%3A/Users/Lavinia/OneDrive/Documentos/Ifood/M%C3%B3dulo%202%20-%20L%C3%B3gica%20de%20Programa%C3%A7%C3%A3o%20II/C%C3%B3digos/ADA/Aula_06.ipynb#W1sZmlsZQ%3D%3D?line=13'>14</a>\u001b[0m professores \u001b[39m=\u001b[39m {\n\u001b[0;32m     <a href='vscode-notebook-cell:/c%3A/Users/Lavinia/OneDrive/Documentos/Ifood/M%C3%B3dulo%202%20-%20L%C3%B3gica%20de%20Programa%C3%A7%C3%A3o%20II/C%C3%B3digos/ADA/Aula_06.ipynb#W1sZmlsZQ%3D%3D?line=14'>15</a>\u001b[0m     \u001b[39m'\u001b[39m\u001b[39mAndré\u001b[39m\u001b[39m'\u001b[39m: \u001b[39m'\u001b[39m\u001b[39mPython\u001b[39m\u001b[39m'\u001b[39m,\n\u001b[0;32m     <a href='vscode-notebook-cell:/c%3A/Users/Lavinia/OneDrive/Documentos/Ifood/M%C3%B3dulo%202%20-%20L%C3%B3gica%20de%20Programa%C3%A7%C3%A3o%20II/C%C3%B3digos/ADA/Aula_06.ipynb#W1sZmlsZQ%3D%3D?line=15'>16</a>\u001b[0m     \u001b[39m'\u001b[39m\u001b[39mBruna\u001b[39m\u001b[39m'\u001b[39m: \u001b[39m'\u001b[39m\u001b[39mDevOps\u001b[39m\u001b[39m'\u001b[39m,\n\u001b[0;32m     <a href='vscode-notebook-cell:/c%3A/Users/Lavinia/OneDrive/Documentos/Ifood/M%C3%B3dulo%202%20-%20L%C3%B3gica%20de%20Programa%C3%A7%C3%A3o%20II/C%C3%B3digos/ADA/Aula_06.ipynb#W1sZmlsZQ%3D%3D?line=16'>17</a>\u001b[0m     \u001b[39m'\u001b[39m\u001b[39mCabral\u001b[39m\u001b[39m'\u001b[39m: \u001b[39m'\u001b[39m\u001b[39mJavaScript\u001b[39m\u001b[39m'\u001b[39m,\n\u001b[0;32m     <a href='vscode-notebook-cell:/c%3A/Users/Lavinia/OneDrive/Documentos/Ifood/M%C3%B3dulo%202%20-%20L%C3%B3gica%20de%20Programa%C3%A7%C3%A3o%20II/C%C3%B3digos/ADA/Aula_06.ipynb#W1sZmlsZQ%3D%3D?line=17'>18</a>\u001b[0m     \u001b[39m'\u001b[39m\u001b[39mRafael\u001b[39m\u001b[39m'\u001b[39m: \u001b[39m'\u001b[39m\u001b[39mPython\u001b[39m\u001b[39m'\u001b[39m,\n\u001b[0;32m     <a href='vscode-notebook-cell:/c%3A/Users/Lavinia/OneDrive/Documentos/Ifood/M%C3%B3dulo%202%20-%20L%C3%B3gica%20de%20Programa%C3%A7%C3%A3o%20II/C%C3%B3digos/ADA/Aula_06.ipynb#W1sZmlsZQ%3D%3D?line=18'>19</a>\u001b[0m }\n\u001b[1;32m---> <a href='vscode-notebook-cell:/c%3A/Users/Lavinia/OneDrive/Documentos/Ifood/M%C3%B3dulo%202%20-%20L%C3%B3gica%20de%20Programa%C3%A7%C3%A3o%20II/C%C3%B3digos/ADA/Aula_06.ipynb#W1sZmlsZQ%3D%3D?line=20'>21</a>\u001b[0m redutor_profs \u001b[39m=\u001b[39m gera_redutor(professores)\n\u001b[0;32m     <a href='vscode-notebook-cell:/c%3A/Users/Lavinia/OneDrive/Documentos/Ifood/M%C3%B3dulo%202%20-%20L%C3%B3gica%20de%20Programa%C3%A7%C3%A3o%20II/C%C3%B3digos/ADA/Aula_06.ipynb#W1sZmlsZQ%3D%3D?line=22'>23</a>\u001b[0m profs_por_curso \u001b[39m=\u001b[39m reduce(redutor_profs,\n\u001b[0;32m     <a href='vscode-notebook-cell:/c%3A/Users/Lavinia/OneDrive/Documentos/Ifood/M%C3%B3dulo%202%20-%20L%C3%B3gica%20de%20Programa%C3%A7%C3%A3o%20II/C%C3%B3digos/ADA/Aula_06.ipynb#W1sZmlsZQ%3D%3D?line=23'>24</a>\u001b[0m     professores,\n\u001b[0;32m     <a href='vscode-notebook-cell:/c%3A/Users/Lavinia/OneDrive/Documentos/Ifood/M%C3%B3dulo%202%20-%20L%C3%B3gica%20de%20Programa%C3%A7%C3%A3o%20II/C%C3%B3digos/ADA/Aula_06.ipynb#W1sZmlsZQ%3D%3D?line=24'>25</a>\u001b[0m     {})\n\u001b[0;32m     <a href='vscode-notebook-cell:/c%3A/Users/Lavinia/OneDrive/Documentos/Ifood/M%C3%B3dulo%202%20-%20L%C3%B3gica%20de%20Programa%C3%A7%C3%A3o%20II/C%C3%B3digos/ADA/Aula_06.ipynb#W1sZmlsZQ%3D%3D?line=26'>27</a>\u001b[0m \u001b[39mprint\u001b[39m(profs_por_curso)\n",
      "\u001b[1;32mc:\\Users\\Lavinia\\OneDrive\\Documentos\\Ifood\\Módulo 2 - Lógica de Programação II\\Códigos\\ADA\\Aula_06.ipynb Cell 2\u001b[0m line \u001b[0;36m1\n\u001b[0;32m      <a href='vscode-notebook-cell:/c%3A/Users/Lavinia/OneDrive/Documentos/Ifood/M%C3%B3dulo%202%20-%20L%C3%B3gica%20de%20Programa%C3%A7%C3%A3o%20II/C%C3%B3digos/ADA/Aula_06.ipynb#W1sZmlsZQ%3D%3D?line=8'>9</a>\u001b[0m         acumulador[dicionario[chave]] \u001b[39m=\u001b[39m [chave]\n\u001b[0;32m     <a href='vscode-notebook-cell:/c%3A/Users/Lavinia/OneDrive/Documentos/Ifood/M%C3%B3dulo%202%20-%20L%C3%B3gica%20de%20Programa%C3%A7%C3%A3o%20II/C%C3%B3digos/ADA/Aula_06.ipynb#W1sZmlsZQ%3D%3D?line=9'>10</a>\u001b[0m     \u001b[39mreturn\u001b[39;00m acumulador\n\u001b[1;32m---> <a href='vscode-notebook-cell:/c%3A/Users/Lavinia/OneDrive/Documentos/Ifood/M%C3%B3dulo%202%20-%20L%C3%B3gica%20de%20Programa%C3%A7%C3%A3o%20II/C%C3%B3digos/ADA/Aula_06.ipynb#W1sZmlsZQ%3D%3D?line=11'>12</a>\u001b[0m \u001b[39mreturn\u001b[39;00m redutor\n",
      "\u001b[1;32mc:\\Users\\Lavinia\\OneDrive\\Documentos\\Ifood\\Módulo 2 - Lógica de Programação II\\Códigos\\ADA\\Aula_06.ipynb Cell 2\u001b[0m line \u001b[0;36m1\n\u001b[0;32m      <a href='vscode-notebook-cell:/c%3A/Users/Lavinia/OneDrive/Documentos/Ifood/M%C3%B3dulo%202%20-%20L%C3%B3gica%20de%20Programa%C3%A7%C3%A3o%20II/C%C3%B3digos/ADA/Aula_06.ipynb#W1sZmlsZQ%3D%3D?line=8'>9</a>\u001b[0m         acumulador[dicionario[chave]] \u001b[39m=\u001b[39m [chave]\n\u001b[0;32m     <a href='vscode-notebook-cell:/c%3A/Users/Lavinia/OneDrive/Documentos/Ifood/M%C3%B3dulo%202%20-%20L%C3%B3gica%20de%20Programa%C3%A7%C3%A3o%20II/C%C3%B3digos/ADA/Aula_06.ipynb#W1sZmlsZQ%3D%3D?line=9'>10</a>\u001b[0m     \u001b[39mreturn\u001b[39;00m acumulador\n\u001b[1;32m---> <a href='vscode-notebook-cell:/c%3A/Users/Lavinia/OneDrive/Documentos/Ifood/M%C3%B3dulo%202%20-%20L%C3%B3gica%20de%20Programa%C3%A7%C3%A3o%20II/C%C3%B3digos/ADA/Aula_06.ipynb#W1sZmlsZQ%3D%3D?line=11'>12</a>\u001b[0m \u001b[39mreturn\u001b[39;00m redutor\n",
      "File \u001b[1;32m_pydevd_bundle/pydevd_cython.pyx:1457\u001b[0m, in \u001b[0;36m_pydevd_bundle.pydevd_cython.SafeCallWrapper.__call__\u001b[1;34m()\u001b[0m\n",
      "File \u001b[1;32m_pydevd_bundle/pydevd_cython.pyx:701\u001b[0m, in \u001b[0;36m_pydevd_bundle.pydevd_cython.PyDBFrame.trace_dispatch\u001b[1;34m()\u001b[0m\n",
      "File \u001b[1;32m_pydevd_bundle/pydevd_cython.pyx:1395\u001b[0m, in \u001b[0;36m_pydevd_bundle.pydevd_cython.PyDBFrame.trace_dispatch\u001b[1;34m()\u001b[0m\n",
      "File \u001b[1;32m_pydevd_bundle/pydevd_cython.pyx:1344\u001b[0m, in \u001b[0;36m_pydevd_bundle.pydevd_cython.PyDBFrame.trace_dispatch\u001b[1;34m()\u001b[0m\n",
      "File \u001b[1;32m_pydevd_bundle/pydevd_cython.pyx:312\u001b[0m, in \u001b[0;36m_pydevd_bundle.pydevd_cython.PyDBFrame.do_wait_suspend\u001b[1;34m()\u001b[0m\n",
      "File \u001b[1;32m~\\AppData\\Roaming\\Python\\Python39\\site-packages\\debugpy\\_vendored\\pydevd\\pydevd.py:2070\u001b[0m, in \u001b[0;36mPyDB.do_wait_suspend\u001b[1;34m(self, thread, frame, event, arg, exception_type)\u001b[0m\n\u001b[0;32m   2067\u001b[0m             from_this_thread\u001b[39m.\u001b[39mappend(frame_custom_thread_id)\n\u001b[0;32m   2069\u001b[0m     \u001b[39mwith\u001b[39;00m \u001b[39mself\u001b[39m\u001b[39m.\u001b[39m_threads_suspended_single_notification\u001b[39m.\u001b[39mnotify_thread_suspended(thread_id, thread, stop_reason):\n\u001b[1;32m-> 2070\u001b[0m         keep_suspended \u001b[39m=\u001b[39m \u001b[39mself\u001b[39;49m\u001b[39m.\u001b[39;49m_do_wait_suspend(thread, frame, event, arg, suspend_type, from_this_thread, frames_tracker)\n\u001b[0;32m   2072\u001b[0m frames_list \u001b[39m=\u001b[39m \u001b[39mNone\u001b[39;00m\n\u001b[0;32m   2074\u001b[0m \u001b[39mif\u001b[39;00m keep_suspended:\n\u001b[0;32m   2075\u001b[0m     \u001b[39m# This means that we should pause again after a set next statement.\u001b[39;00m\n",
      "File \u001b[1;32m~\\AppData\\Roaming\\Python\\Python39\\site-packages\\debugpy\\_vendored\\pydevd\\pydevd.py:2106\u001b[0m, in \u001b[0;36mPyDB._do_wait_suspend\u001b[1;34m(self, thread, frame, event, arg, suspend_type, from_this_thread, frames_tracker)\u001b[0m\n\u001b[0;32m   2103\u001b[0m         \u001b[39mself\u001b[39m\u001b[39m.\u001b[39m_call_input_hook()\n\u001b[0;32m   2105\u001b[0m     \u001b[39mself\u001b[39m\u001b[39m.\u001b[39mprocess_internal_commands()\n\u001b[1;32m-> 2106\u001b[0m     time\u001b[39m.\u001b[39;49msleep(\u001b[39m0.01\u001b[39;49m)\n\u001b[0;32m   2108\u001b[0m \u001b[39mself\u001b[39m\u001b[39m.\u001b[39mcancel_async_evaluation(get_current_thread_id(thread), \u001b[39mstr\u001b[39m(\u001b[39mid\u001b[39m(frame)))\n\u001b[0;32m   2110\u001b[0m \u001b[39m# process any stepping instructions\u001b[39;00m\n",
      "\u001b[1;31mKeyboardInterrupt\u001b[0m: "
     ]
    }
   ],
   "source": [
    "from functools import reduce\n",
    "\n",
    "def gera_redutor(dicionario):\n",
    "\n",
    "    def redutor(acumulador, chave):\n",
    "        if dicionario[chave] in acumulador:\n",
    "            acumulador[dicionario[chave]].append(chave)\n",
    "        else:\n",
    "            acumulador[dicionario[chave]] = [chave]\n",
    "        return acumulador\n",
    "    \n",
    "    return redutor\n",
    "\n",
    "professores = {\n",
    "    'André': 'Python',\n",
    "    'Bruna': 'DevOps',\n",
    "    'Cabral': 'JavaScript',\n",
    "    'Rafael': 'Python',\n",
    "}\n",
    "\n",
    "redutor_profs = gera_redutor(professores)\n",
    "\n",
    "profs_por_curso = reduce(redutor_profs,\n",
    "    professores,\n",
    "    {})\n",
    "\n",
    "print(profs_por_curso)"
   ]
  }
 ],
 "metadata": {
  "kernelspec": {
   "display_name": "Python 3",
   "language": "python",
   "name": "python3"
  },
  "language_info": {
   "codemirror_mode": {
    "name": "ipython",
    "version": 3
   },
   "file_extension": ".py",
   "mimetype": "text/x-python",
   "name": "python",
   "nbconvert_exporter": "python",
   "pygments_lexer": "ipython3",
   "version": "3.9.5"
  }
 },
 "nbformat": 4,
 "nbformat_minor": 2
}
